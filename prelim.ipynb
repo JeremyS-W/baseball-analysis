{
  "nbformat": 4,
  "nbformat_minor": 0,
  "metadata": {
    "colab": {
      "name": "baseball2",
      "provenance": [],
      "collapsed_sections": [],
      "mount_file_id": "1VJiDWj4_8aeixu2rp3Wegx_bXJcJ9l-w",
      "authorship_tag": "ABX9TyNmdcZyyykx9uRId4FEf9I/",
      "include_colab_link": true
    },
    "kernelspec": {
      "name": "python3",
      "display_name": "Python 3"
    },
    "language_info": {
      "name": "python"
    }
  },
  "cells": [
    {
      "cell_type": "markdown",
      "metadata": {
        "id": "view-in-github",
        "colab_type": "text"
      },
      "source": [
        "<a href=\"https://colab.research.google.com/github/JeremyS-W/baseball-analysis/blob/main/prelim.ipynb\" target=\"_parent\"><img src=\"https://colab.research.google.com/assets/colab-badge.svg\" alt=\"Open In Colab\"/></a>"
      ]
    },
    {
      "cell_type": "code",
      "execution_count": null,
      "metadata": {
        "id": "8hXDFDhdYf_v"
      },
      "outputs": [],
      "source": [
        "import pandas as pd"
      ]
    },
    {
      "cell_type": "code",
      "source": [
        "coredat = pd.read_csv('/content/drive/MyDrive/basball analytics folder/Teams.csv')"
      ],
      "metadata": {
        "id": "bQ01Ex2yYlOI"
      },
      "execution_count": null,
      "outputs": []
    },
    {
      "cell_type": "code",
      "source": [
        "pitching = pd.read_csv('/content/drive/MyDrive/basball analytics folder/Pitching.csv')"
      ],
      "metadata": {
        "id": "-sh5qgodamlz"
      },
      "execution_count": null,
      "outputs": []
    },
    {
      "cell_type": "code",
      "source": [
        "batting = pd.read_csv('/content/drive/MyDrive/basball analytics folder/Batting.csv')"
      ],
      "metadata": {
        "id": "Uo92-EBXavQS"
      },
      "execution_count": null,
      "outputs": []
    },
    {
      "cell_type": "code",
      "source": [
        "fielding = pd.read_csv('/content/drive/MyDrive/basball analytics folder/Fielding.csv')"
      ],
      "metadata": {
        "id": "XKLr-iwTaxpJ"
      },
      "execution_count": null,
      "outputs": []
    },
    {
      "cell_type": "code",
      "source": [
        "records = pd.read_csv('/content/drive/MyDrive/basball analytics folder/Records.csv')"
      ],
      "metadata": {
        "id": "LMDSdQQKiFEp"
      },
      "execution_count": null,
      "outputs": []
    },
    {
      "cell_type": "code",
      "source": [
        "### chcecking that coredat and records match\n",
        "print(len(records))\n",
        "print(len(coredat))"
      ],
      "metadata": {
        "id": "RsPh8vfSiM9f",
        "outputId": "231714ee-f070-4c24-cfc9-64f968dfbc36",
        "colab": {
          "base_uri": "https://localhost:8080/"
        }
      },
      "execution_count": null,
      "outputs": [
        {
          "output_type": "stream",
          "name": "stdout",
          "text": [
            "2955\n",
            "2955\n"
          ]
        }
      ]
    },
    {
      "cell_type": "code",
      "source": [
        "### merging datasets\n",
        "\n",
        "from pandas.core.reshape.merge import merge\n",
        "coredat = merge(coredat,records)"
      ],
      "metadata": {
        "id": "bs7FE8TUevnc"
      },
      "execution_count": null,
      "outputs": []
    },
    {
      "cell_type": "code",
      "source": [
        "### checking proper merge\n",
        "for col in coredat.columns:\n",
        "  print(col)"
      ],
      "metadata": {
        "id": "zAa3zKSflSRa",
        "outputId": "30bc08e2-e779-4025-9dc6-5ee709384e92",
        "colab": {
          "base_uri": "https://localhost:8080/"
        }
      },
      "execution_count": null,
      "outputs": [
        {
          "output_type": "stream",
          "name": "stdout",
          "text": [
            "yearID\n",
            "lgID\n",
            "teamID\n",
            "franchID\n",
            "divID\n",
            "Rank\n",
            "Ghome\n",
            "DivWin\n",
            "WCWin\n",
            "LgWin\n",
            "WSWin\n",
            "name\n",
            "park\n",
            "attendance\n",
            "BPF\n",
            "PPF\n",
            "teamIDBR\n",
            "teamIDlahman45\n",
            "teamIDretro\n",
            "G\n",
            "W\n",
            "L\n",
            "R\n",
            "AB\n",
            "H\n",
            "2B\n",
            "3B\n",
            "HR\n",
            "BB\n",
            "SO\n",
            "SB\n",
            "CS\n",
            "HBP\n",
            "SF\n",
            "RA\n",
            "ER\n",
            "ERA\n",
            "CG\n",
            "SHO\n",
            "SV\n",
            "IPouts\n",
            "HA\n",
            "HRA\n",
            "BBA\n",
            "SOA\n",
            "E\n",
            "DP\n",
            "FP\n"
          ]
        }
      ]
    },
    {
      "cell_type": "code",
      "source": [
        "coredat = coredat.loc[coredat.yearID > 1946]\n",
        "# selecting from 1947 on as a useful and interesting definition of \"modern era\""
      ],
      "metadata": {
        "id": "YjLmr0fFem0Q"
      },
      "execution_count": null,
      "outputs": []
    },
    {
      "cell_type": "code",
      "source": [
        "sels  = [\"yearID\", \"franchID\", \"W\", \"L\", \"R\", \"BB\", \"H\", \"2B\", \"3B\", \"HR\", \"ER\", \"ERA\", \"RA\"]"
      ],
      "metadata": {
        "id": "blfPAZS9ny4U"
      },
      "execution_count": null,
      "outputs": []
    },
    {
      "cell_type": "code",
      "source": [
        "paredat = coredat[sels]"
      ],
      "metadata": {
        "id": "mPaMFRuhmW-D"
      },
      "execution_count": null,
      "outputs": []
    },
    {
      "cell_type": "code",
      "source": [
        "paredat['HRnorm'] = paredat.groupby('yearID')['HR'].transform('max')\n",
        "paredat['HRnorm'] = paredat[\"HR\"]/paredat[\"HRnorm\"]"
      ],
      "metadata": {
        "id": "gbyO-9mN374_",
        "outputId": "cce090f8-e5eb-4e00-8e41-d963e3147748",
        "colab": {
          "base_uri": "https://localhost:8080/"
        }
      },
      "execution_count": null,
      "outputs": [
        {
          "output_type": "stream",
          "name": "stderr",
          "text": [
            "/usr/local/lib/python3.7/dist-packages/ipykernel_launcher.py:1: SettingWithCopyWarning: \n",
            "A value is trying to be set on a copy of a slice from a DataFrame.\n",
            "Try using .loc[row_indexer,col_indexer] = value instead\n",
            "\n",
            "See the caveats in the documentation: https://pandas.pydata.org/pandas-docs/stable/user_guide/indexing.html#returning-a-view-versus-a-copy\n",
            "  \"\"\"Entry point for launching an IPython kernel.\n",
            "/usr/local/lib/python3.7/dist-packages/ipykernel_launcher.py:2: SettingWithCopyWarning: \n",
            "A value is trying to be set on a copy of a slice from a DataFrame.\n",
            "Try using .loc[row_indexer,col_indexer] = value instead\n",
            "\n",
            "See the caveats in the documentation: https://pandas.pydata.org/pandas-docs/stable/user_guide/indexing.html#returning-a-view-versus-a-copy\n",
            "  \n"
          ]
        }
      ]
    },
    {
      "cell_type": "code",
      "source": [
        "paredat['ERAnorm'] = paredat.groupby('yearID')['ERA'].transform('max')\n",
        "paredat['ERAnorm'] = paredat[\"ERA\"]/paredat[\"ERAnorm\"]"
      ],
      "metadata": {
        "id": "gvbEThUZB3bG",
        "outputId": "e84d0704-7139-4b95-f338-21017d4bcdc9",
        "colab": {
          "base_uri": "https://localhost:8080/"
        }
      },
      "execution_count": null,
      "outputs": [
        {
          "output_type": "stream",
          "name": "stderr",
          "text": [
            "/usr/local/lib/python3.7/dist-packages/ipykernel_launcher.py:1: SettingWithCopyWarning: \n",
            "A value is trying to be set on a copy of a slice from a DataFrame.\n",
            "Try using .loc[row_indexer,col_indexer] = value instead\n",
            "\n",
            "See the caveats in the documentation: https://pandas.pydata.org/pandas-docs/stable/user_guide/indexing.html#returning-a-view-versus-a-copy\n",
            "  \"\"\"Entry point for launching an IPython kernel.\n",
            "/usr/local/lib/python3.7/dist-packages/ipykernel_launcher.py:2: SettingWithCopyWarning: \n",
            "A value is trying to be set on a copy of a slice from a DataFrame.\n",
            "Try using .loc[row_indexer,col_indexer] = value instead\n",
            "\n",
            "See the caveats in the documentation: https://pandas.pydata.org/pandas-docs/stable/user_guide/indexing.html#returning-a-view-versus-a-copy\n",
            "  \n"
          ]
        }
      ]
    },
    {
      "cell_type": "code",
      "source": [
        "paredat['Rnorm'] = paredat.groupby('yearID')['R'].transform('max')\n",
        "paredat['Rnorm'] = paredat[\"R\"]/paredat[\"Rnorm\"]"
      ],
      "metadata": {
        "id": "Ebep1EtpCDKy",
        "outputId": "9ff34a08-8335-4b52-cc6b-294f7d1b63b1",
        "colab": {
          "base_uri": "https://localhost:8080/"
        }
      },
      "execution_count": null,
      "outputs": [
        {
          "output_type": "stream",
          "name": "stderr",
          "text": [
            "/usr/local/lib/python3.7/dist-packages/ipykernel_launcher.py:1: SettingWithCopyWarning: \n",
            "A value is trying to be set on a copy of a slice from a DataFrame.\n",
            "Try using .loc[row_indexer,col_indexer] = value instead\n",
            "\n",
            "See the caveats in the documentation: https://pandas.pydata.org/pandas-docs/stable/user_guide/indexing.html#returning-a-view-versus-a-copy\n",
            "  \"\"\"Entry point for launching an IPython kernel.\n",
            "/usr/local/lib/python3.7/dist-packages/ipykernel_launcher.py:2: SettingWithCopyWarning: \n",
            "A value is trying to be set on a copy of a slice from a DataFrame.\n",
            "Try using .loc[row_indexer,col_indexer] = value instead\n",
            "\n",
            "See the caveats in the documentation: https://pandas.pydata.org/pandas-docs/stable/user_guide/indexing.html#returning-a-view-versus-a-copy\n",
            "  \n"
          ]
        }
      ]
    },
    {
      "cell_type": "code",
      "source": [
        "paredat['BBnorm'] = paredat.groupby('yearID')['BB'].transform('max')\n",
        "paredat['BBnorm'] = paredat[\"BB\"]/paredat[\"BBnorm\"]"
      ],
      "metadata": {
        "id": "-w45YNVACbmf",
        "outputId": "dc21cfeb-04b4-48f9-c71d-4e069169504a",
        "colab": {
          "base_uri": "https://localhost:8080/"
        }
      },
      "execution_count": null,
      "outputs": [
        {
          "output_type": "stream",
          "name": "stderr",
          "text": [
            "/usr/local/lib/python3.7/dist-packages/ipykernel_launcher.py:1: SettingWithCopyWarning: \n",
            "A value is trying to be set on a copy of a slice from a DataFrame.\n",
            "Try using .loc[row_indexer,col_indexer] = value instead\n",
            "\n",
            "See the caveats in the documentation: https://pandas.pydata.org/pandas-docs/stable/user_guide/indexing.html#returning-a-view-versus-a-copy\n",
            "  \"\"\"Entry point for launching an IPython kernel.\n",
            "/usr/local/lib/python3.7/dist-packages/ipykernel_launcher.py:2: SettingWithCopyWarning: \n",
            "A value is trying to be set on a copy of a slice from a DataFrame.\n",
            "Try using .loc[row_indexer,col_indexer] = value instead\n",
            "\n",
            "See the caveats in the documentation: https://pandas.pydata.org/pandas-docs/stable/user_guide/indexing.html#returning-a-view-versus-a-copy\n",
            "  \n"
          ]
        }
      ]
    },
    {
      "cell_type": "code",
      "source": [
        "paredat['RAnorm'] = paredat.groupby('yearID')['RA'].transform('max')\n",
        "paredat['RAnorm'] = paredat[\"RA\"]/paredat[\"RAnorm\"]"
      ],
      "metadata": {
        "id": "ed1CxuqYCtYf",
        "outputId": "8df2d55e-f4b3-4b69-fe28-292dfe909442",
        "colab": {
          "base_uri": "https://localhost:8080/"
        }
      },
      "execution_count": null,
      "outputs": [
        {
          "output_type": "stream",
          "name": "stderr",
          "text": [
            "/usr/local/lib/python3.7/dist-packages/ipykernel_launcher.py:1: SettingWithCopyWarning: \n",
            "A value is trying to be set on a copy of a slice from a DataFrame.\n",
            "Try using .loc[row_indexer,col_indexer] = value instead\n",
            "\n",
            "See the caveats in the documentation: https://pandas.pydata.org/pandas-docs/stable/user_guide/indexing.html#returning-a-view-versus-a-copy\n",
            "  \"\"\"Entry point for launching an IPython kernel.\n",
            "/usr/local/lib/python3.7/dist-packages/ipykernel_launcher.py:2: SettingWithCopyWarning: \n",
            "A value is trying to be set on a copy of a slice from a DataFrame.\n",
            "Try using .loc[row_indexer,col_indexer] = value instead\n",
            "\n",
            "See the caveats in the documentation: https://pandas.pydata.org/pandas-docs/stable/user_guide/indexing.html#returning-a-view-versus-a-copy\n",
            "  \n"
          ]
        }
      ]
    },
    {
      "cell_type": "code",
      "source": [
        "paredat['iERAnorm'] = 1-paredat['ERAnorm']"
      ],
      "metadata": {
        "id": "uNL7HfiSx_3b"
      },
      "execution_count": null,
      "outputs": []
    },
    {
      "cell_type": "code",
      "source": [
        "paredat['iRAnorm'] = 1-paredat['RAnorm']"
      ],
      "metadata": {
        "id": "H--fOBw6ye1V"
      },
      "execution_count": null,
      "outputs": []
    },
    {
      "cell_type": "code",
      "source": [
        "paredat.head()"
      ],
      "metadata": {
        "id": "Ij_0yrrdzbCa",
        "outputId": "995209a3-d152-4947-ff25-4664b6f5de54",
        "colab": {
          "base_uri": "https://localhost:8080/",
          "height": 206
        }
      },
      "execution_count": null,
      "outputs": [
        {
          "output_type": "execute_result",
          "data": {
            "text/html": [
              "\n",
              "  <div id=\"df-43b794a2-6998-4c08-8922-fc9c2eb3685f\">\n",
              "    <div class=\"colab-df-container\">\n",
              "      <div>\n",
              "<style scoped>\n",
              "    .dataframe tbody tr th:only-of-type {\n",
              "        vertical-align: middle;\n",
              "    }\n",
              "\n",
              "    .dataframe tbody tr th {\n",
              "        vertical-align: top;\n",
              "    }\n",
              "\n",
              "    .dataframe thead th {\n",
              "        text-align: right;\n",
              "    }\n",
              "</style>\n",
              "<table border=\"1\" class=\"dataframe\">\n",
              "  <thead>\n",
              "    <tr style=\"text-align: right;\">\n",
              "      <th></th>\n",
              "      <th>yearID</th>\n",
              "      <th>franchID</th>\n",
              "      <th>W</th>\n",
              "      <th>L</th>\n",
              "      <th>R</th>\n",
              "      <th>BB</th>\n",
              "      <th>H</th>\n",
              "      <th>2B</th>\n",
              "      <th>3B</th>\n",
              "      <th>HR</th>\n",
              "      <th>ER</th>\n",
              "      <th>ERA</th>\n",
              "      <th>RA</th>\n",
              "      <th>HRnorm</th>\n",
              "      <th>ERAnorm</th>\n",
              "      <th>Rnorm</th>\n",
              "      <th>BBnorm</th>\n",
              "      <th>RAnorm</th>\n",
              "      <th>iERAnorm</th>\n",
              "      <th>iRAnorm</th>\n",
              "    </tr>\n",
              "  </thead>\n",
              "  <tbody>\n",
              "    <tr>\n",
              "      <th>1135</th>\n",
              "      <td>1947</td>\n",
              "      <td>BOS</td>\n",
              "      <td>83</td>\n",
              "      <td>71</td>\n",
              "      <td>720</td>\n",
              "      <td>666.0</td>\n",
              "      <td>1412</td>\n",
              "      <td>206</td>\n",
              "      <td>54</td>\n",
              "      <td>103</td>\n",
              "      <td>589</td>\n",
              "      <td>3.81</td>\n",
              "      <td>669</td>\n",
              "      <td>0.466063</td>\n",
              "      <td>0.814103</td>\n",
              "      <td>0.867470</td>\n",
              "      <td>0.874016</td>\n",
              "      <td>0.818849</td>\n",
              "      <td>0.185897</td>\n",
              "      <td>0.181151</td>\n",
              "    </tr>\n",
              "    <tr>\n",
              "      <th>1136</th>\n",
              "      <td>1947</td>\n",
              "      <td>LAD</td>\n",
              "      <td>94</td>\n",
              "      <td>60</td>\n",
              "      <td>774</td>\n",
              "      <td>732.0</td>\n",
              "      <td>1428</td>\n",
              "      <td>241</td>\n",
              "      <td>50</td>\n",
              "      <td>83</td>\n",
              "      <td>584</td>\n",
              "      <td>3.82</td>\n",
              "      <td>668</td>\n",
              "      <td>0.375566</td>\n",
              "      <td>0.816239</td>\n",
              "      <td>0.932530</td>\n",
              "      <td>0.960630</td>\n",
              "      <td>0.817625</td>\n",
              "      <td>0.183761</td>\n",
              "      <td>0.182375</td>\n",
              "    </tr>\n",
              "    <tr>\n",
              "      <th>1137</th>\n",
              "      <td>1947</td>\n",
              "      <td>ATL</td>\n",
              "      <td>86</td>\n",
              "      <td>68</td>\n",
              "      <td>701</td>\n",
              "      <td>558.0</td>\n",
              "      <td>1444</td>\n",
              "      <td>265</td>\n",
              "      <td>42</td>\n",
              "      <td>85</td>\n",
              "      <td>548</td>\n",
              "      <td>3.62</td>\n",
              "      <td>622</td>\n",
              "      <td>0.384615</td>\n",
              "      <td>0.773504</td>\n",
              "      <td>0.844578</td>\n",
              "      <td>0.732283</td>\n",
              "      <td>0.761322</td>\n",
              "      <td>0.226496</td>\n",
              "      <td>0.238678</td>\n",
              "    </tr>\n",
              "    <tr>\n",
              "      <th>1138</th>\n",
              "      <td>1947</td>\n",
              "      <td>CHW</td>\n",
              "      <td>70</td>\n",
              "      <td>84</td>\n",
              "      <td>553</td>\n",
              "      <td>492.0</td>\n",
              "      <td>1350</td>\n",
              "      <td>211</td>\n",
              "      <td>41</td>\n",
              "      <td>53</td>\n",
              "      <td>563</td>\n",
              "      <td>3.64</td>\n",
              "      <td>661</td>\n",
              "      <td>0.239819</td>\n",
              "      <td>0.777778</td>\n",
              "      <td>0.666265</td>\n",
              "      <td>0.645669</td>\n",
              "      <td>0.809058</td>\n",
              "      <td>0.222222</td>\n",
              "      <td>0.190942</td>\n",
              "    </tr>\n",
              "    <tr>\n",
              "      <th>1139</th>\n",
              "      <td>1947</td>\n",
              "      <td>CHC</td>\n",
              "      <td>69</td>\n",
              "      <td>85</td>\n",
              "      <td>567</td>\n",
              "      <td>471.0</td>\n",
              "      <td>1373</td>\n",
              "      <td>231</td>\n",
              "      <td>48</td>\n",
              "      <td>71</td>\n",
              "      <td>614</td>\n",
              "      <td>4.04</td>\n",
              "      <td>722</td>\n",
              "      <td>0.321267</td>\n",
              "      <td>0.863248</td>\n",
              "      <td>0.683133</td>\n",
              "      <td>0.618110</td>\n",
              "      <td>0.883721</td>\n",
              "      <td>0.136752</td>\n",
              "      <td>0.116279</td>\n",
              "    </tr>\n",
              "  </tbody>\n",
              "</table>\n",
              "</div>\n",
              "      <button class=\"colab-df-convert\" onclick=\"convertToInteractive('df-43b794a2-6998-4c08-8922-fc9c2eb3685f')\"\n",
              "              title=\"Convert this dataframe to an interactive table.\"\n",
              "              style=\"display:none;\">\n",
              "        \n",
              "  <svg xmlns=\"http://www.w3.org/2000/svg\" height=\"24px\"viewBox=\"0 0 24 24\"\n",
              "       width=\"24px\">\n",
              "    <path d=\"M0 0h24v24H0V0z\" fill=\"none\"/>\n",
              "    <path d=\"M18.56 5.44l.94 2.06.94-2.06 2.06-.94-2.06-.94-.94-2.06-.94 2.06-2.06.94zm-11 1L8.5 8.5l.94-2.06 2.06-.94-2.06-.94L8.5 2.5l-.94 2.06-2.06.94zm10 10l.94 2.06.94-2.06 2.06-.94-2.06-.94-.94-2.06-.94 2.06-2.06.94z\"/><path d=\"M17.41 7.96l-1.37-1.37c-.4-.4-.92-.59-1.43-.59-.52 0-1.04.2-1.43.59L10.3 9.45l-7.72 7.72c-.78.78-.78 2.05 0 2.83L4 21.41c.39.39.9.59 1.41.59.51 0 1.02-.2 1.41-.59l7.78-7.78 2.81-2.81c.8-.78.8-2.07 0-2.86zM5.41 20L4 18.59l7.72-7.72 1.47 1.35L5.41 20z\"/>\n",
              "  </svg>\n",
              "      </button>\n",
              "      \n",
              "  <style>\n",
              "    .colab-df-container {\n",
              "      display:flex;\n",
              "      flex-wrap:wrap;\n",
              "      gap: 12px;\n",
              "    }\n",
              "\n",
              "    .colab-df-convert {\n",
              "      background-color: #E8F0FE;\n",
              "      border: none;\n",
              "      border-radius: 50%;\n",
              "      cursor: pointer;\n",
              "      display: none;\n",
              "      fill: #1967D2;\n",
              "      height: 32px;\n",
              "      padding: 0 0 0 0;\n",
              "      width: 32px;\n",
              "    }\n",
              "\n",
              "    .colab-df-convert:hover {\n",
              "      background-color: #E2EBFA;\n",
              "      box-shadow: 0px 1px 2px rgba(60, 64, 67, 0.3), 0px 1px 3px 1px rgba(60, 64, 67, 0.15);\n",
              "      fill: #174EA6;\n",
              "    }\n",
              "\n",
              "    [theme=dark] .colab-df-convert {\n",
              "      background-color: #3B4455;\n",
              "      fill: #D2E3FC;\n",
              "    }\n",
              "\n",
              "    [theme=dark] .colab-df-convert:hover {\n",
              "      background-color: #434B5C;\n",
              "      box-shadow: 0px 1px 3px 1px rgba(0, 0, 0, 0.15);\n",
              "      filter: drop-shadow(0px 1px 2px rgba(0, 0, 0, 0.3));\n",
              "      fill: #FFFFFF;\n",
              "    }\n",
              "  </style>\n",
              "\n",
              "      <script>\n",
              "        const buttonEl =\n",
              "          document.querySelector('#df-43b794a2-6998-4c08-8922-fc9c2eb3685f button.colab-df-convert');\n",
              "        buttonEl.style.display =\n",
              "          google.colab.kernel.accessAllowed ? 'block' : 'none';\n",
              "\n",
              "        async function convertToInteractive(key) {\n",
              "          const element = document.querySelector('#df-43b794a2-6998-4c08-8922-fc9c2eb3685f');\n",
              "          const dataTable =\n",
              "            await google.colab.kernel.invokeFunction('convertToInteractive',\n",
              "                                                     [key], {});\n",
              "          if (!dataTable) return;\n",
              "\n",
              "          const docLinkHtml = 'Like what you see? Visit the ' +\n",
              "            '<a target=\"_blank\" href=https://colab.research.google.com/notebooks/data_table.ipynb>data table notebook</a>'\n",
              "            + ' to learn more about interactive tables.';\n",
              "          element.innerHTML = '';\n",
              "          dataTable['output_type'] = 'display_data';\n",
              "          await google.colab.output.renderOutput(dataTable, element);\n",
              "          const docLink = document.createElement('div');\n",
              "          docLink.innerHTML = docLinkHtml;\n",
              "          element.appendChild(docLink);\n",
              "        }\n",
              "      </script>\n",
              "    </div>\n",
              "  </div>\n",
              "  "
            ],
            "text/plain": [
              "      yearID franchID   W   L    R     BB     H   2B  3B   HR   ER   ERA   RA  \\\n",
              "1135    1947      BOS  83  71  720  666.0  1412  206  54  103  589  3.81  669   \n",
              "1136    1947      LAD  94  60  774  732.0  1428  241  50   83  584  3.82  668   \n",
              "1137    1947      ATL  86  68  701  558.0  1444  265  42   85  548  3.62  622   \n",
              "1138    1947      CHW  70  84  553  492.0  1350  211  41   53  563  3.64  661   \n",
              "1139    1947      CHC  69  85  567  471.0  1373  231  48   71  614  4.04  722   \n",
              "\n",
              "        HRnorm   ERAnorm     Rnorm    BBnorm    RAnorm  iERAnorm   iRAnorm  \n",
              "1135  0.466063  0.814103  0.867470  0.874016  0.818849  0.185897  0.181151  \n",
              "1136  0.375566  0.816239  0.932530  0.960630  0.817625  0.183761  0.182375  \n",
              "1137  0.384615  0.773504  0.844578  0.732283  0.761322  0.226496  0.238678  \n",
              "1138  0.239819  0.777778  0.666265  0.645669  0.809058  0.222222  0.190942  \n",
              "1139  0.321267  0.863248  0.683133  0.618110  0.883721  0.136752  0.116279  "
            ]
          },
          "metadata": {},
          "execution_count": 61
        }
      ]
    },
    {
      "cell_type": "code",
      "source": [
        "paredat['SO2'] = paredat['iRAnorm'] + paredat['Rnorm']"
      ],
      "metadata": {
        "id": "Yimt5D4bype0"
      },
      "execution_count": null,
      "outputs": []
    },
    {
      "cell_type": "code",
      "source": [
        "paredat['SO'] = paredat['iERAnorm'] + paredat['Rnorm']"
      ],
      "metadata": {
        "id": "NQEAiW4tyO5w"
      },
      "execution_count": null,
      "outputs": []
    },
    {
      "cell_type": "code",
      "source": [
        "paredat.tail()"
      ],
      "metadata": {
        "id": "4szuwH4hNYlh"
      },
      "execution_count": null,
      "outputs": []
    },
    {
      "cell_type": "code",
      "source": [
        "corrmatrix = paredat.corr()"
      ],
      "metadata": {
        "id": "We_hccvQyuVq"
      },
      "execution_count": null,
      "outputs": []
    },
    {
      "cell_type": "code",
      "source": [
        "winmat = corrmatrix['W']"
      ],
      "metadata": {
        "id": "tvdL5VbDzRjE"
      },
      "execution_count": null,
      "outputs": []
    },
    {
      "cell_type": "code",
      "source": [
        "print(corrmatrix['W'])"
      ],
      "metadata": {
        "id": "ecsnf2zhx_dR",
        "outputId": "92b8ef85-1cd4-4536-e1ae-dea1836a7d1a",
        "colab": {
          "base_uri": "https://localhost:8080/"
        }
      },
      "execution_count": null,
      "outputs": [
        {
          "output_type": "stream",
          "name": "stdout",
          "text": [
            "yearID     -0.031991\n",
            "W           1.000000\n",
            "L          -0.382590\n",
            "R           0.695215\n",
            "BB          0.547480\n",
            "H           0.644403\n",
            "2B          0.441725\n",
            "3B          0.188585\n",
            "HR          0.432656\n",
            "ER         -0.049437\n",
            "ERA        -0.489563\n",
            "RA         -0.062704\n",
            "HRnorm      0.353259\n",
            "ERAnorm    -0.535701\n",
            "Rnorm       0.551459\n",
            "BBnorm      0.318872\n",
            "RAnorm     -0.531239\n",
            "iERAnorm    0.535701\n",
            "iRAnorm     0.531239\n",
            "SO2         0.745625\n",
            "SO          0.752458\n",
            "Name: W, dtype: float64\n"
          ]
        }
      ]
    },
    {
      "cell_type": "code",
      "source": [
        "print(corrmatrix['SO'])"
      ],
      "metadata": {
        "id": "oPcVo8Pd5025",
        "outputId": "3d481ebb-c7ac-4c75-95be-9cba87815bb9",
        "colab": {
          "base_uri": "https://localhost:8080/"
        }
      },
      "execution_count": null,
      "outputs": [
        {
          "output_type": "stream",
          "name": "stdout",
          "text": [
            "yearID      0.026567\n",
            "W           0.752458\n",
            "L          -0.733469\n",
            "R           0.460901\n",
            "BB          0.296266\n",
            "H           0.226244\n",
            "2B          0.200765\n",
            "3B          0.048799\n",
            "HR          0.334734\n",
            "ER         -0.431081\n",
            "ERA        -0.549697\n",
            "RA         -0.450298\n",
            "HRnorm      0.406996\n",
            "ERAnorm    -0.744361\n",
            "Rnorm       0.698108\n",
            "BBnorm      0.389645\n",
            "RAnorm     -0.729050\n",
            "iERAnorm    0.744361\n",
            "iRAnorm     0.729050\n",
            "SO2         0.983282\n",
            "SO          1.000000\n",
            "Name: SO, dtype: float64\n"
          ]
        }
      ]
    },
    {
      "cell_type": "code",
      "source": [
        "cormat = pd.DataFrame.to_csv(winmat)"
      ],
      "metadata": {
        "id": "CpTAMYARzNsD"
      },
      "execution_count": null,
      "outputs": []
    },
    {
      "cell_type": "code",
      "source": [
        "paredat = pd.DataFrame.to_csv(paredat)"
      ],
      "metadata": {
        "id": "_2qQZBM-HDMH"
      },
      "execution_count": null,
      "outputs": []
    },
    {
      "cell_type": "code",
      "source": [
        "from google.colab import drive\n",
        "drive.mount('/content/gdrive')"
      ],
      "metadata": {
        "id": "vaOVo_tsHkL_",
        "outputId": "03ff2331-9f51-4c73-e1c2-338756a6a580",
        "colab": {
          "base_uri": "https://localhost:8080/"
        }
      },
      "execution_count": null,
      "outputs": [
        {
          "output_type": "stream",
          "name": "stdout",
          "text": [
            "Mounted at /content/gdrive\n"
          ]
        }
      ]
    },
    {
      "cell_type": "code",
      "source": [
        "with open('/content/gdrive/My Drive/bball.csv', 'w') as f:\n",
        "  f.write(paredat)"
      ],
      "metadata": {
        "id": "RxZ7ABPhHrFr"
      },
      "execution_count": null,
      "outputs": []
    },
    {
      "cell_type": "code",
      "source": [
        "with open('/content/gdrive/My Drive/cor.csv', 'w') as f:\n",
        "  f.write(cormat)"
      ],
      "metadata": {
        "id": "3KYUwnZ93Taw"
      },
      "execution_count": null,
      "outputs": []
    }
  ]
}